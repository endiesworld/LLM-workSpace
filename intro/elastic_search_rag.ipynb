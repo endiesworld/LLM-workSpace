{
 "cells": [
  {
   "cell_type": "code",
   "execution_count": null,
   "id": "373d7351-b47a-48f2-b4d1-280ee9a50b79",
   "metadata": {},
   "outputs": [],
   "source": [
    "docker run -it \\\n",
    "    --rm \\\n",
    "    --name elasticsearch \\\n",
    "    -m 4GB \\\n",
    "    -p 9200:9200 \\\n",
    "    -p 9300:9300 \\\n",
    "    -e \"discovery.type=single-node\" \\\n",
    "    -e \"xpack.security.enabled=false\" \\\n",
    "    docker.elastic.co/elasticsearch/elasticsearch:8.4.3"
   ]
  },
  {
   "cell_type": "markdown",
   "id": "a82567ca-2645-40e8-acea-72d19d9df179",
   "metadata": {},
   "source": [
    "### Next Step: Confirm with an API Ping\n",
    "To 100% confirm it's alive, run this in your terminal:"
   ]
  },
  {
   "cell_type": "code",
   "execution_count": null,
   "id": "d8c9d09b-b413-407f-8be0-54789f0916d1",
   "metadata": {},
   "outputs": [],
   "source": [
    "curl -X GET http://localhost:9200\n"
   ]
  },
  {
   "cell_type": "code",
   "execution_count": 1,
   "id": "9dfd8909-6543-4614-8c85-2a6b0e55ae61",
   "metadata": {},
   "outputs": [],
   "source": [
    "import json\n",
    "from openai import OpenAI\n",
    "from elasticsearch import Elasticsearch"
   ]
  },
  {
   "cell_type": "code",
   "execution_count": 2,
   "id": "670d8391-fa92-49dd-88ba-b57b4de899db",
   "metadata": {},
   "outputs": [],
   "source": [
    "with open('document.json', 'rt') as f_in:\n",
    "    docs_raw = json.load(f_in)"
   ]
  },
  {
   "cell_type": "code",
   "execution_count": 3,
   "id": "2dd629c2-dc12-42b1-8a69-b665592830e2",
   "metadata": {},
   "outputs": [
    {
     "name": "stdout",
     "output_type": "stream",
     "text": [
      "<class 'list'>\n"
     ]
    }
   ],
   "source": [
    "print(type(docs_raw))"
   ]
  },
  {
   "cell_type": "code",
   "execution_count": 4,
   "id": "c8594454-c696-4317-b392-7def0ba15171",
   "metadata": {},
   "outputs": [
    {
     "name": "stdout",
     "output_type": "stream",
     "text": [
      "3\n"
     ]
    }
   ],
   "source": [
    "print(len(docs_raw))"
   ]
  },
  {
   "cell_type": "code",
   "execution_count": 5,
   "id": "89a9a06d-74a0-4b9a-bfdc-c51e3afe2942",
   "metadata": {},
   "outputs": [
    {
     "name": "stdout",
     "output_type": "stream",
     "text": [
      "<class 'dict'>\n"
     ]
    }
   ],
   "source": [
    "print(type(docs_raw[0]))"
   ]
  },
  {
   "cell_type": "code",
   "execution_count": 6,
   "id": "883bfbcf-15a5-47c3-889c-c58b057f40b2",
   "metadata": {},
   "outputs": [
    {
     "name": "stdout",
     "output_type": "stream",
     "text": [
      "dict_keys(['course', 'documents'])\n"
     ]
    }
   ],
   "source": [
    "print(docs_raw[0].keys())"
   ]
  },
  {
   "cell_type": "code",
   "execution_count": 7,
   "id": "6d3acf4f-da42-485a-9122-c1652f40a479",
   "metadata": {},
   "outputs": [
    {
     "name": "stdout",
     "output_type": "stream",
     "text": [
      "course key is of type:  <class 'str'>\n",
      "documents key is of type:  <class 'list'>\n"
     ]
    }
   ],
   "source": [
    "print(\"course key is of type: \", type(docs_raw[0]['course']))\n",
    "print(\"documents key is of type: \", type(docs_raw[0]['documents']))"
   ]
  },
  {
   "cell_type": "code",
   "execution_count": 8,
   "id": "da8267bb-8b31-4c0a-9bd0-5fc1f7622d3d",
   "metadata": {},
   "outputs": [
    {
     "name": "stdout",
     "output_type": "stream",
     "text": [
      "The firts elemenr in the documents lis is of type:  <class 'dict'>\n"
     ]
    }
   ],
   "source": [
    "print(\"The firts elemenr in the documents lis is of type: \", type(docs_raw[0]['documents'][0]))"
   ]
  },
  {
   "cell_type": "code",
   "execution_count": 9,
   "id": "0c14cdc6-6ab4-4251-86cd-25245b4b8e46",
   "metadata": {},
   "outputs": [
    {
     "name": "stdout",
     "output_type": "stream",
     "text": [
      "The keys in the documents dictionary are :  dict_keys(['text', 'section', 'question'])\n"
     ]
    }
   ],
   "source": [
    "print(\"The keys in the documents dictionary are : \", docs_raw[0]['documents'][0].keys())"
   ]
  },
  {
   "cell_type": "markdown",
   "id": "40086cc5-6969-460a-a906-c76481ff13e4",
   "metadata": {},
   "source": [
    "## Findings of the data structure\n",
    "- **docs_raw** is of type list, so enter the list to get individual data<br>\n",
    "- This individual data is of type dictionary with keys:<br> \n",
    "    + **course:** Contains the grouping of individual course sections like **Data Engineering Zoomczmp**<br>\n",
    "    + **documents:** Contains list of dictionary for all the questions asked and the answers provided for these questions, for that **course**<br>\n",
    "- Each dictionary in the **documents** list contains keys 'text', 'section', 'question'"
   ]
  },
  {
   "cell_type": "markdown",
   "id": "1683e01c-d37c-43d1-a932-024f10ab3fa7",
   "metadata": {},
   "source": [
    "### Data formating\n",
    "We will then proceed to reformat the document to have only a document as a list of all the questions across all course sections as:<br>\n",
    "document = [{ 'text': \"...\", 'section': \"...\", 'question': \"...\", 'course': \"...\"}, ...{}]"
   ]
  },
  {
   "cell_type": "code",
   "execution_count": 10,
   "id": "8969681e-f00c-406c-a0db-5ce38fdac11f",
   "metadata": {},
   "outputs": [
    {
     "name": "stdout",
     "output_type": "stream",
     "text": [
      "combined_doc has a length of:  948\n"
     ]
    }
   ],
   "source": [
    "combined_doc = []\n",
    "\n",
    "for course_section in docs_raw:\n",
    "    for doc in course_section['documents']:\n",
    "        doc['course'] = course_section['course']\n",
    "        combined_doc.append(doc)\n",
    "print(\"combined_doc has a length of: \", len(combined_doc))"
   ]
  },
  {
   "cell_type": "code",
   "execution_count": 11,
   "id": "d9c65600-d2d7-40f9-b76f-88bc08f30463",
   "metadata": {},
   "outputs": [
    {
     "data": {
      "text/plain": [
       "{'text': \"The purpose of this document is to capture frequently asked technical questions\\nThe exact day and hour of the course will be 15th Jan 2024 at 17h00. The course will start with the first  “Office Hours'' live.1\\nSubscribe to course public Google Calendar (it works from Desktop only).\\nRegister before the course starts using this link.\\nJoin the course Telegram channel with announcements.\\nDon’t forget to register in DataTalks.Club's Slack and join the channel.\",\n",
       " 'section': 'General course-related questions',\n",
       " 'question': 'Course - When will the course start?',\n",
       " 'course': 'data-engineering-zoomcamp'}"
      ]
     },
     "execution_count": 11,
     "metadata": {},
     "output_type": "execute_result"
    }
   ],
   "source": [
    "combined_doc[0]"
   ]
  },
  {
   "cell_type": "code",
   "execution_count": 12,
   "id": "0874579c-539a-47ba-9231-7d7192ad525f",
   "metadata": {},
   "outputs": [
    {
     "data": {
      "text/plain": [
       "{'text': 'Problem description\\nInfrastructure created in AWS with CD-Deploy Action needs to be destroyed\\nSolution description\\nFrom local:\\nterraform init -backend-config=\"key=mlops-zoomcamp-prod.tfstate\" --reconfigure\\nterraform destroy --var-file vars/prod.tfvars\\nAdded by Erick Calderin',\n",
       " 'section': 'Module 6: Best practices',\n",
       " 'question': 'How to destroy infrastructure created via GitHub Actions',\n",
       " 'course': 'mlops-zoomcamp'}"
      ]
     },
     "execution_count": 12,
     "metadata": {},
     "output_type": "execute_result"
    }
   ],
   "source": [
    "combined_doc[-1]"
   ]
  },
  {
   "cell_type": "code",
   "execution_count": 13,
   "id": "c9631e31-5f1d-416f-ace0-b79316d72efc",
   "metadata": {},
   "outputs": [],
   "source": [
    "#Question\n",
    "q = 'the course has already started, can I still enroll?'"
   ]
  },
  {
   "cell_type": "code",
   "execution_count": 14,
   "id": "e359166c-be18-4769-9a35-dd8833e95e4c",
   "metadata": {},
   "outputs": [],
   "source": [
    "client = OpenAI()"
   ]
  },
  {
   "cell_type": "code",
   "execution_count": 15,
   "id": "ddbbdd69-c55c-4cd3-8fa7-2db669c280c7",
   "metadata": {},
   "outputs": [
    {
     "data": {
      "text/plain": [
       "\"Whether you can still enroll in a course after it has started depends on several factors, including the policies of the institution offering the course, the specific course structure, and how far along the course is. Here are some general steps you can take:\\n\\n1. **Check the Institution's Policies**: Look at the institution’s registration and enrollment policies. Some institutions allow late enrollments while others have strict deadlines.\\n\\n2. **Contact the Instructor**: Reach out to the course instructor to express your interest. They might allow you to join if you've missed only a few sessions and if it’s feasible to catch up.\\n\\n3. **Consult with Academic Advising**: Speak with an academic advisor or the registrar's office. They can provide guidance on how to proceed with enrollment after the deadline.\\n\\n4. **Review Course Requirements**: Ensure you can meet all course requirements and deadlines, and that you're able to catch up on any missed material.\\n\\n5. **Consider Online or Recorded Options**: If the course is offered online or has recorded lectures, it might be easier to catch up on content.\\n\\n6. **Late Enrollment Fees**: Be aware that there might be additional fees associated with enrolling late.\\n\\nRemember that even if late enrollment is possible, it may require additional effort and commitment to catch up on missed content and assignments.\""
      ]
     },
     "execution_count": 15,
     "metadata": {},
     "output_type": "execute_result"
    }
   ],
   "source": [
    "response = client.chat.completions.create(\n",
    "    model='gpt-4o',\n",
    "    messages=[{\"role\": \"user\", \"content\": q}]\n",
    ")\n",
    "\n",
    "response.choices[0].message.content"
   ]
  },
  {
   "cell_type": "code",
   "execution_count": 16,
   "id": "116e4281-b1e8-4fbe-8c00-483f13165404",
   "metadata": {},
   "outputs": [],
   "source": [
    "es_client = Elasticsearch('http://localhost:9200') "
   ]
  },
  {
   "cell_type": "code",
   "execution_count": 17,
   "id": "92eb75ac-c950-4183-b6fd-0728b270567c",
   "metadata": {},
   "outputs": [
    {
     "data": {
      "text/plain": [
       "ObjectApiResponse({'acknowledged': True, 'shards_acknowledged': True, 'index': 'course-questions'})"
      ]
     },
     "execution_count": 17,
     "metadata": {},
     "output_type": "execute_result"
    }
   ],
   "source": [
    "index_settings = {\n",
    "    \"settings\": {\n",
    "        \"number_of_shards\": 1,\n",
    "        \"number_of_replicas\": 0\n",
    "    },\n",
    "    \"mappings\": {\n",
    "        \"properties\": {\n",
    "            \"text\": {\"type\": \"text\"},\n",
    "            \"section\": {\"type\": \"text\"},\n",
    "            \"question\": {\"type\": \"text\"},\n",
    "            \"course\": {\"type\": \"keyword\"} \n",
    "        }\n",
    "    }\n",
    "}\n",
    "\n",
    "index_name = \"course-questions\"\n",
    "\n",
    "es_client.indices.create(index=index_name, body=index_settings)"
   ]
  },
  {
   "cell_type": "code",
   "execution_count": 18,
   "id": "922461c3-7024-405e-a391-0ab355eb6df4",
   "metadata": {},
   "outputs": [],
   "source": [
    "from tqdm.auto import tqdm"
   ]
  },
  {
   "cell_type": "code",
   "execution_count": 20,
   "id": "814f2d01-a415-46b8-ba16-bc3672be1067",
   "metadata": {},
   "outputs": [
    {
     "data": {
      "application/vnd.jupyter.widget-view+json": {
       "model_id": "0f867a2a7e91432f938ff473e6cbc98c",
       "version_major": 2,
       "version_minor": 0
      },
      "text/plain": [
       "  0%|          | 0/948 [00:00<?, ?it/s]"
      ]
     },
     "metadata": {},
     "output_type": "display_data"
    }
   ],
   "source": [
    "for doc in tqdm(combined_doc):\n",
    "    es_client.index(index=index_name, document=doc)"
   ]
  },
  {
   "cell_type": "code",
   "execution_count": 21,
   "id": "00c03703-7240-404c-87ca-b8abb2ad237a",
   "metadata": {},
   "outputs": [],
   "source": [
    "def elastic_search(query):\n",
    "    search_query = {\n",
    "        \"size\": 5,\n",
    "        \"query\": {\n",
    "            \"bool\": {\n",
    "                \"must\": {\n",
    "                    \"multi_match\": {\n",
    "                        \"query\": query,\n",
    "                        \"fields\": [\"question^3\", \"text\", \"section\"],\n",
    "                        \"type\": \"best_fields\"\n",
    "                    }\n",
    "                },\n",
    "                \"filter\": {\n",
    "                    \"term\": {\n",
    "                        \"course\": \"data-engineering-zoomcamp\"\n",
    "                    }\n",
    "                }\n",
    "            }\n",
    "        }\n",
    "    }\n",
    "\n",
    "    response = es_client.search(index=index_name, body=search_query)\n",
    "    \n",
    "    result_docs = []\n",
    "    \n",
    "    for hit in response['hits']['hits']:\n",
    "        result_docs.append(hit['_source'])\n",
    "    \n",
    "    return result_docs"
   ]
  },
  {
   "cell_type": "code",
   "execution_count": 22,
   "id": "6e4f8043-a6b1-4639-8367-9ad003f2ad2c",
   "metadata": {},
   "outputs": [],
   "source": [
    "def build_prompt(query, search_results):\n",
    "    prompt_template = \"\"\"\n",
    "You're a course teaching assistant. Answer the QUESTION based on the CONTEXT from the FAQ database.\n",
    "Use only the facts from the CONTEXT when answering the QUESTION.\n",
    "\n",
    "QUESTION: {question}\n",
    "\n",
    "CONTEXT: \n",
    "{context}\n",
    "\"\"\".strip()\n",
    "\n",
    "    context = \"\"\n",
    "    \n",
    "    for doc in search_results:\n",
    "        context = context + f\"section: {doc['section']}\\nquestion: {doc['question']}\\nanswer: {doc['text']}\\n\\n\"\n",
    "    \n",
    "    prompt = prompt_template.format(question=query, context=context).strip()\n",
    "    return prompt"
   ]
  },
  {
   "cell_type": "code",
   "execution_count": 23,
   "id": "869cf1ae-9c79-421b-85f0-0594ea957d49",
   "metadata": {},
   "outputs": [],
   "source": [
    "def llm(prompt):\n",
    "    response = client.chat.completions.create(\n",
    "        model='gpt-4o',\n",
    "        messages=[{\"role\": \"user\", \"content\": prompt}]\n",
    "    )\n",
    "    \n",
    "    return response.choices[0].message.content"
   ]
  },
  {
   "cell_type": "code",
   "execution_count": 24,
   "id": "7f5fa27b-b7b2-4742-a059-7c5af170642f",
   "metadata": {},
   "outputs": [],
   "source": [
    "def rag(query):\n",
    "    search_results = elastic_search(query)\n",
    "    prompt = build_prompt(query, search_results)\n",
    "    answer = llm(prompt)\n",
    "    return answer"
   ]
  },
  {
   "cell_type": "code",
   "execution_count": 25,
   "id": "a5b625a3-e318-4f58-b2a9-bb9a537b5cc4",
   "metadata": {},
   "outputs": [
    {
     "data": {
      "text/plain": [
       "\"Yes, even if the course has already started, you can still enroll and submit the homeworks. However, be aware that there will be deadlines for turning in the final projects, so it's important not to leave everything for the last minute.\""
      ]
     },
     "execution_count": 25,
     "metadata": {},
     "output_type": "execute_result"
    }
   ],
   "source": [
    "rag(q)"
   ]
  },
  {
   "cell_type": "code",
   "execution_count": null,
   "id": "d22f297b-b284-4236-824d-250f5f415055",
   "metadata": {},
   "outputs": [],
   "source": []
  }
 ],
 "metadata": {
  "kernelspec": {
   "display_name": "Python 3 (ipykernel)",
   "language": "python",
   "name": "python3"
  },
  "language_info": {
   "codemirror_mode": {
    "name": "ipython",
    "version": 3
   },
   "file_extension": ".py",
   "mimetype": "text/x-python",
   "name": "python",
   "nbconvert_exporter": "python",
   "pygments_lexer": "ipython3",
   "version": "3.12.1"
  }
 },
 "nbformat": 4,
 "nbformat_minor": 5
}
