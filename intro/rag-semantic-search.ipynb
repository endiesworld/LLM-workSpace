{
 "cells": [
  {
   "cell_type": "code",
   "execution_count": 1,
   "id": "6c00f939-639e-428c-9508-bff4371ec7a8",
   "metadata": {},
   "outputs": [
    {
     "name": "stderr",
     "output_type": "stream",
     "text": [
      "/home/endie/Projects/LLM-Projects/LLM-Zoomcamp/LLM-workSpace/venv/lib/python3.11/site-packages/tqdm/auto.py:21: TqdmWarning: IProgress not found. Please update jupyter and ipywidgets. See https://ipywidgets.readthedocs.io/en/stable/user_install.html\n",
      "  from .autonotebook import tqdm as notebook_tqdm\n"
     ]
    }
   ],
   "source": [
    "import requests \n",
    "from openai import OpenAI\n",
    "from qdrant_client import QdrantClient, models"
   ]
  },
  {
   "cell_type": "code",
   "execution_count": 2,
   "id": "ca344f46-6a96-4cda-9035-3ccc0bd281b8",
   "metadata": {},
   "outputs": [],
   "source": [
    "import requests \n",
    "\n",
    "docs_url = 'https://github.com/alexeygrigorev/llm-rag-workshop/raw/main/notebooks/documents.json'\n",
    "docs_response = requests.get(docs_url)\n",
    "documents_raw = docs_response.json()\n",
    "\n",
    "documents = []\n",
    "\n",
    "for course in documents_raw:\n",
    "    course_name = course['course']\n",
    "\n",
    "    for doc in course['documents']:\n",
    "        doc['course'] = course_name\n",
    "        documents.append(doc)"
   ]
  },
  {
   "cell_type": "code",
   "execution_count": 7,
   "id": "5dfdff92-c44e-4966-9bd7-8878a3f9072a",
   "metadata": {},
   "outputs": [
    {
     "data": {
      "text/plain": [
       "True"
      ]
     },
     "execution_count": 7,
     "metadata": {},
     "output_type": "execute_result"
    }
   ],
   "source": [
    "from dotenv import load_dotenv\n",
    "load_dotenv()"
   ]
  },
  {
   "cell_type": "code",
   "execution_count": 8,
   "id": "4b9e3278-06d4-4891-9779-45ef3c615fa2",
   "metadata": {},
   "outputs": [],
   "source": [
    "openai_client = OpenAI()"
   ]
  },
  {
   "cell_type": "markdown",
   "id": "5b13048b-39dc-468a-89d3-4133b8770963",
   "metadata": {},
   "source": [
    "## Objective\n",
    "You're setting up a Qdrant vector database to store embeddings (512-dimensional) from a model (jinaai/jina-embeddings-v2-small-en) for a collection named \"zoomcamp-faq\". This prepares the collection to perform similarity search using cosine distance."
   ]
  },
  {
   "cell_type": "markdown",
   "id": "f1932a91-53af-4a3f-92d8-7250cada8100",
   "metadata": {},
   "source": [
    "- Imports the `QdrantClient` to interact with the Qdrant database.\n",
    "- `models` gives access to configuration classes like `VectorParams`, `Distance`, etc.\n",
    "\n",
    "---\n",
    "\n",
    "####\n",
    "```python\n",
    "qd_client = QdrantClient(\"http://localhost:6333\")\n",
    "```\n"
   ]
  },
  {
   "cell_type": "code",
   "execution_count": 9,
   "id": "6f4cecf7-eb11-4ad6-82f2-a8d921395094",
   "metadata": {},
   "outputs": [],
   "source": [
    "qd_client = QdrantClient(\"http://localhost:6333\")"
   ]
  },
  {
   "cell_type": "markdown",
   "id": "9d9c2fa9-b507-4002-b442-ed452ba331d1",
   "metadata": {},
   "source": [
    "### EMBEDDING_DIMENSIONALITY = 512\n",
    "- Defines the size of the embedding vectors you'll store.\n",
    "- This must match the output size of your embedding model — in this case, `jinaai/jina-embeddings-v2-small-en`.\n",
    "\n",
    "```python\n",
    "model_handle = \"jinaai/jina-embeddings-v2-small-en\"\n",
    "```\n",
    "---\n",
    "### collection_name = \"zoomcamp-faq\"\n",
    "- Name of the **collection** (like a table or index) in Qdrant that will hold the embeddings.\n",
    "\n",
    " ```python\n",
    "qd_client.delete_collection(collection_name=collection_name)\n",
    "```\n",
    "\n",
    "+ Deletes the collection if it exists — useful during development or reinitialization.\n",
    "\n",
    "+ Prevents duplicate schema errors and clears previous data."
   ]
  },
  {
   "cell_type": "code",
   "execution_count": 10,
   "id": "d3e0775f-c947-489b-ae79-d66b890d27fe",
   "metadata": {},
   "outputs": [],
   "source": [
    "EMBEDDING_DIMENSIONALITY = 512\n",
    "model_handle = \"jinaai/jina-embeddings-v2-small-en\"\n",
    "collection_name = \"zoomcamp-faq\""
   ]
  },
  {
   "cell_type": "code",
   "execution_count": 11,
   "id": "6289e9e9-b957-434d-8a23-2591f72c0e64",
   "metadata": {},
   "outputs": [
    {
     "data": {
      "text/plain": [
       "True"
      ]
     },
     "execution_count": 11,
     "metadata": {},
     "output_type": "execute_result"
    }
   ],
   "source": [
    "qd_client.delete_collection(collection_name=collection_name)"
   ]
  },
  {
   "cell_type": "markdown",
   "id": "4e9540fa-84d2-4cd7-8f4c-09597902f23a",
   "metadata": {},
   "source": [
    "### Create the collection\n",
    "- Creates a new collection ready to store 512-dimension embeddings\n",
    "- Configures it to use **cosine similarity** for search\n",
    "\n",
    "You can now insert embeddings into this collection and perform nearest-neighbor vector searches.\n"
   ]
  },
  {
   "cell_type": "code",
   "execution_count": 12,
   "id": "607a0a43-1542-4e93-a524-76c327ed32fe",
   "metadata": {},
   "outputs": [
    {
     "data": {
      "text/plain": [
       "True"
      ]
     },
     "execution_count": 12,
     "metadata": {},
     "output_type": "execute_result"
    }
   ],
   "source": [
    "qd_client.create_collection(\n",
    "    collection_name=collection_name,\n",
    "    vectors_config=models.VectorParams(\n",
    "        size=EMBEDDING_DIMENSIONALITY,\n",
    "        distance=models.Distance.COSINE\n",
    "    )\n",
    ")"
   ]
  },
  {
   "cell_type": "markdown",
   "id": "2f2947bf-5c0b-49dd-81dc-fc7d4d839cdb",
   "metadata": {},
   "source": [
    "### create_payload_index\n",
    "\n",
    "- You're telling Qdrant to **index** the `\"course\"` field in the documents' payloads so you can:\n",
    "- **Efficiently filter** your vector search results (e.g., only search within `\"course\": \"LLM-Zoomcamp\"`)\n",
    "- Use **non-vector metadata** in hybrid queries (e.g., `\"must match this topic\"`)\n",
    "\n",
    "---\n",
    "\n",
    "### 🔍 What Each Parameter Means:\n",
    "\n",
    "| Argument | Description |\n",
    "|----------|-------------|\n",
    "| `collection_name=collection_name` | You're applying this index to your `\"zoomcamp-faq\"` collection. |\n",
    "| `field_name=\"course\"` | You’re indexing the `\"course\"` field from the **payload** attached to each vector. |\n",
    "| `field_schema=\"keyword\"` | Qdrant should treat this as a **discrete, filterable string**, like a tag or category. |\n",
    "\n",
    "> 🔑 A “payload” in Qdrant is like metadata — additional info stored with the vector (e.g., question text, topic, source, etc.)\n",
    "\n",
    "---\n",
    "\n",
    "### ✅ Result\n",
    "\n",
    "After this line runs:\n",
    "- You can do fast filtered searches like:\n",
    "  ```python\n",
    "  filter=models.Filter(\n",
    "      must=[models.FieldCondition(\n",
    "          key=\"course\",\n",
    "          match=models.MatchValue(value=\"LLM-Zoomcamp\")\n",
    "      )]\n",
    "  )\n"
   ]
  },
  {
   "cell_type": "code",
   "execution_count": 13,
   "id": "12867866-0954-4820-9663-488aa4c0dadd",
   "metadata": {},
   "outputs": [
    {
     "data": {
      "text/plain": [
       "UpdateResult(operation_id=1, status=<UpdateStatus.COMPLETED: 'completed'>)"
      ]
     },
     "execution_count": 13,
     "metadata": {},
     "output_type": "execute_result"
    }
   ],
   "source": [
    "qd_client.create_payload_index(\n",
    "    collection_name=collection_name,\n",
    "    field_name=\"course\",\n",
    "    field_schema=\"keyword\"\n",
    ")"
   ]
  },
  {
   "cell_type": "code",
   "execution_count": 14,
   "id": "ad96d55e-a44a-4371-923d-2d218d49fc81",
   "metadata": {},
   "outputs": [],
   "source": [
    "points = []\n",
    "\n",
    "for i, doc in enumerate(documents):\n",
    "    text = doc['question'] + ' ' + doc['text']\n",
    "    vector = models.Document(text=text, model=model_handle)\n",
    "    point = models.PointStruct(\n",
    "        id=i,\n",
    "        vector=vector,\n",
    "        payload=doc\n",
    "    )\n",
    "    points.append(point)"
   ]
  },
  {
   "cell_type": "code",
   "execution_count": 15,
   "id": "36902987-d7ae-4be0-8c40-f88e87855df0",
   "metadata": {},
   "outputs": [
    {
     "data": {
      "text/plain": [
       "UpdateResult(operation_id=2, status=<UpdateStatus.COMPLETED: 'completed'>)"
      ]
     },
     "execution_count": 15,
     "metadata": {},
     "output_type": "execute_result"
    }
   ],
   "source": [
    "qd_client.upsert(\n",
    "    collection_name=collection_name,\n",
    "    points=points\n",
    ")"
   ]
  },
  {
   "cell_type": "markdown",
   "id": "bfc12f44-74c0-44b2-a53b-36228e3135cd",
   "metadata": {},
   "source": [
    "### Study Data Visually\n",
    "\n",
    "Let’s explore the uploaded data in the Qdrant Web UI at [http://localhost:6333/dashboard](http://localhost:6333/dashboard) to study semantic similarity visually.\n",
    "\n",
    "For example, using the `Visualize` tab in the `zoomcamp-rag` collection, we can view all answers to the course questions (948 points) and see how they group together by meaning, additionally coloured by the course type.  \n",
    "\n",
    "To do that, run the following command:\n",
    "\n",
    "```json\n",
    "{\n",
    "  \"limit\": 948,\n",
    "  \"color_by\": {\n",
    "    \"payload\": \"course\"\n",
    "  }\n",
    "}\n",
    "```\n",
    "\n",
    "This 2D representation is the result of dimensionality reduction applied to `jina-embeddings`."
   ]
  },
  {
   "cell_type": "code",
   "execution_count": 16,
   "id": "59e4e4ca-0efc-4317-9cfc-126606f54327",
   "metadata": {},
   "outputs": [],
   "source": [
    "question = 'I just discovered the course. Can I still join it?'"
   ]
  },
  {
   "cell_type": "code",
   "execution_count": 17,
   "id": "98332a3e-2b65-49cc-9923-0fb2687222e6",
   "metadata": {},
   "outputs": [],
   "source": [
    "def vector_search(question):\n",
    "    print('vector_search is used')\n",
    "    \n",
    "    course = 'data-engineering-zoomcamp'\n",
    "    query_points = qd_client.query_points(\n",
    "        collection_name=collection_name,\n",
    "        query=models.Document(\n",
    "            text=question,\n",
    "            model=model_handle \n",
    "        ),\n",
    "        query_filter=models.Filter( \n",
    "            must=[\n",
    "                models.FieldCondition(\n",
    "                    key=\"course\",\n",
    "                    match=models.MatchValue(value=course)\n",
    "                )\n",
    "            ]\n",
    "        ),\n",
    "        limit=5,\n",
    "        with_payload=True\n",
    "    )\n",
    "    \n",
    "    results = []\n",
    "    \n",
    "    for point in query_points.points:\n",
    "        results.append(point.payload)\n",
    "    \n",
    "    return results"
   ]
  },
  {
   "cell_type": "code",
   "execution_count": 18,
   "id": "f2426db1-ef93-42dd-9d89-c9ae4154e066",
   "metadata": {},
   "outputs": [
    {
     "name": "stdout",
     "output_type": "stream",
     "text": [
      "vector_search is used\n"
     ]
    },
    {
     "data": {
      "text/plain": [
       "[{'text': \"Yes, even if you don't register, you're still eligible to submit the homeworks.\\nBe aware, however, that there will be deadlines for turning in the final projects. So don't leave everything for the last minute.\",\n",
       "  'section': 'General course-related questions',\n",
       "  'question': 'Course - Can I still join the course after the start date?',\n",
       "  'course': 'data-engineering-zoomcamp'},\n",
       " {'text': 'Yes, we will keep all the materials after the course finishes, so you can follow the course at your own pace after it finishes.\\nYou can also continue looking at the homeworks and continue preparing for the next cohort. I guess you can also start working on your final capstone project.',\n",
       "  'section': 'General course-related questions',\n",
       "  'question': 'Course - Can I follow the course after it finishes?',\n",
       "  'course': 'data-engineering-zoomcamp'},\n",
       " {'text': \"The purpose of this document is to capture frequently asked technical questions\\nThe exact day and hour of the course will be 15th Jan 2024 at 17h00. The course will start with the first  “Office Hours'' live.1\\nSubscribe to course public Google Calendar (it works from Desktop only).\\nRegister before the course starts using this link.\\nJoin the course Telegram channel with announcements.\\nDon’t forget to register in DataTalks.Club's Slack and join the channel.\",\n",
       "  'section': 'General course-related questions',\n",
       "  'question': 'Course - When will the course start?',\n",
       "  'course': 'data-engineering-zoomcamp'},\n",
       " {'text': 'Yes, the slack channel remains open and you can ask questions there. But always sDocker containers exit code w search the channel first and second, check the FAQ (this document), most likely all your questions are already answered here.\\nYou can also tag the bot @ZoomcampQABot to help you conduct the search, but don’t rely on its answers 100%, it is pretty good though.',\n",
       "  'section': 'General course-related questions',\n",
       "  'question': 'Course - Can I get support if I take the course in the self-paced mode?',\n",
       "  'course': 'data-engineering-zoomcamp'},\n",
       " {'text': \"No, you can only get a certificate if you finish the course with a “live” cohort. We don't award certificates for the self-paced mode. The reason is you need to peer-review capstone(s) after submitting a project. You can only peer-review projects at the time the course is running.\",\n",
       "  'section': 'General course-related questions',\n",
       "  'question': 'Certificate - Can I follow the course in a self-paced mode and get a certificate?',\n",
       "  'course': 'data-engineering-zoomcamp'}]"
      ]
     },
     "execution_count": 18,
     "metadata": {},
     "output_type": "execute_result"
    }
   ],
   "source": [
    "vector_search(question)"
   ]
  },
  {
   "cell_type": "code",
   "execution_count": 19,
   "id": "da0b8fa7-478e-4310-b995-6b5d6af26881",
   "metadata": {},
   "outputs": [],
   "source": [
    "def build_prompt(query, search_results):\n",
    "    prompt_template = \"\"\"\n",
    "You're a course teaching assistant. Answer the QUESTION based on the CONTEXT from the FAQ database.\n",
    "Use only the facts from the CONTEXT when answering the QUESTION.\n",
    "\n",
    "QUESTION: {question}\n",
    "\n",
    "CONTEXT: \n",
    "{context}\n",
    "\"\"\".strip()\n",
    "\n",
    "    context = \"\"\n",
    "    \n",
    "    for doc in search_results:\n",
    "        context = context + f\"section: {doc['section']}\\nquestion: {doc['question']}\\nanswer: {doc['text']}\\n\\n\"\n",
    "    \n",
    "    prompt = prompt_template.format(question=query, context=context).strip()\n",
    "    return prompt"
   ]
  },
  {
   "cell_type": "code",
   "execution_count": 20,
   "id": "fa55abfb-52a3-4ce1-b515-f822f94fff08",
   "metadata": {},
   "outputs": [],
   "source": [
    "def llm(prompt):\n",
    "    response = openai_client.chat.completions.create(\n",
    "        model='gpt-4o-mini',\n",
    "        messages=[{\"role\": \"user\", \"content\": prompt}]\n",
    "    )\n",
    "    \n",
    "    return response.choices[0].message.content"
   ]
  },
  {
   "cell_type": "code",
   "execution_count": 21,
   "id": "8deaef5a-9c62-47be-bc5e-f085f9a7f24a",
   "metadata": {},
   "outputs": [],
   "source": [
    "def rag(query):\n",
    "    search_results = vector_search(query)\n",
    "    prompt = build_prompt(query, search_results)\n",
    "    answer = llm(prompt)\n",
    "    return answer"
   ]
  },
  {
   "cell_type": "code",
   "execution_count": 22,
   "id": "b9850e07-954b-4e70-97e6-fd084d5ca079",
   "metadata": {},
   "outputs": [
    {
     "name": "stdout",
     "output_type": "stream",
     "text": [
      "vector_search is used\n"
     ]
    },
    {
     "data": {
      "text/plain": [
       "\"Yes, you can still join the course even after the start date. You are eligible to submit homeworks, but keep in mind that there will be deadlines for final projects, so it's advisable not to leave everything for the last minute.\""
      ]
     },
     "execution_count": 22,
     "metadata": {},
     "output_type": "execute_result"
    }
   ],
   "source": [
    "rag(question)"
   ]
  },
  {
   "cell_type": "code",
   "execution_count": 23,
   "id": "529dbab1-9cc3-4fa4-a525-197996a42eb5",
   "metadata": {},
   "outputs": [
    {
     "name": "stdout",
     "output_type": "stream",
     "text": [
      "vector_search is used\n"
     ]
    },
    {
     "data": {
      "text/plain": [
       "\"To run Kafka, you need to follow these steps:\\n\\n1. **Ensure Kafka Broker is Running**: First, check if your Kafka broker docker container is working by running the command `docker ps`. If it's not running, navigate to the docker compose YAML file folder and execute `docker compose up -d` to start all the instances.\\n\\n2. **Running your Kafka Applications**: In your project directory, you can run your Kafka producer or consumer using the following command:\\n   ```\\n   java -cp build/libs/<jar_name>-1.0-SNAPSHOT.jar:out src/main/java/org/example/JsonProducer.java\\n   ```\\n   Replace `<jar_name>` with the actual name of your JAR file.\\n\\n3. **Check Configuration**: Make sure that:\\n   - The `StreamsConfig.BOOTSTRAP_SERVERS_CONFIG` is set to the correct server URL in your Java scripts.\\n   - Update the cluster key and secrets in `src/main/java/org/example/Secrets.java` accordingly.\\n\\nFollowing these steps should enable you to run Kafka successfully.\""
      ]
     },
     "execution_count": 23,
     "metadata": {},
     "output_type": "execute_result"
    }
   ],
   "source": [
    "rag('how do I run kafka?')"
   ]
  },
  {
   "cell_type": "code",
   "execution_count": null,
   "id": "8ab04546-cf33-4594-a83e-13c0b690f776",
   "metadata": {},
   "outputs": [],
   "source": []
  }
 ],
 "metadata": {
  "kernelspec": {
   "display_name": "Python (venv)",
   "language": "python",
   "name": "venv"
  },
  "language_info": {
   "codemirror_mode": {
    "name": "ipython",
    "version": 3
   },
   "file_extension": ".py",
   "mimetype": "text/x-python",
   "name": "python",
   "nbconvert_exporter": "python",
   "pygments_lexer": "ipython3",
   "version": "3.11.9"
  }
 },
 "nbformat": 4,
 "nbformat_minor": 5
}
