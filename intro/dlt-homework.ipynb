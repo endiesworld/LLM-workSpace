{
 "cells": [
  {
   "cell_type": "code",
   "execution_count": 1,
   "id": "cc6f9511-41f3-4276-833c-4e0e6786721a",
   "metadata": {},
   "outputs": [
    {
     "name": "stdout",
     "output_type": "stream",
     "text": [
      "Pipeline python_data_example load step completed in 0.94 seconds\n",
      "1 load package(s) were loaded to destination duckdb and into dataset python_data_example_dataset\n",
      "The duckdb destination used duckdb:////home/endie/Projects/LLM-Projects/LLM-Zoomcamp/LLM-workSpace/intro/python_data_example.duckdb location to store data\n",
      "Load package 1752127979.5875778 is LOADED and contains no failed jobs\n"
     ]
    }
   ],
   "source": [
    "import dlt\n",
    "\n",
    "@dlt.resource(table_name=\"foo_data\")\n",
    "def foo():\n",
    "    for i in range(10):\n",
    "        yield {\"id\": i, \"name\": f\"This is item {i}\"}\n",
    "\n",
    "pipeline = dlt.pipeline(\n",
    "    pipeline_name=\"python_data_example\",\n",
    "    destination=\"duckdb\",\n",
    ")\n",
    "\n",
    "load_info = pipeline.run(foo)\n",
    "\n",
    "# print load info and the \"foo_data\" table as dataframe\n",
    "print(load_info)\n"
   ]
  },
  {
   "cell_type": "code",
   "execution_count": 2,
   "id": "1c0a204c-229f-43af-8ce8-74e98b058557",
   "metadata": {},
   "outputs": [
    {
     "name": "stdout",
     "output_type": "stream",
     "text": [
      "   id            name        _dlt_load_id         _dlt_id\n",
      "0   0  This is item 0  1752127979.5875778  tRyyO+ZP7OHuoA\n",
      "1   1  This is item 1  1752127979.5875778  3cZfNvXKd2fWuQ\n",
      "2   2  This is item 2  1752127979.5875778  4rSTtkksavyDyQ\n",
      "3   3  This is item 3  1752127979.5875778  RRrbsufoboZhoQ\n",
      "4   4  This is item 4  1752127979.5875778  bbcmphvzB/1ZRw\n",
      "5   5  This is item 5  1752127979.5875778  84Ix7cSO7hZi5g\n",
      "6   6  This is item 6  1752127979.5875778  nnkPC1nfrMCN8g\n",
      "7   7  This is item 7  1752127979.5875778  piXsAAZIXEGNag\n",
      "8   8  This is item 8  1752127979.5875778  JvUu8WXIqrB8nA\n",
      "9   9  This is item 9  1752127979.5875778  tVsQ2iwtZM8ROA\n"
     ]
    }
   ],
   "source": [
    "print(pipeline.dataset().foo_data.df())"
   ]
  },
  {
   "cell_type": "code",
   "execution_count": 3,
   "id": "dad889f3-e6ff-48fc-805c-485119dc27cf",
   "metadata": {},
   "outputs": [
    {
     "name": "stdout",
     "output_type": "stream",
     "text": [
      "\u001b[39mdlt 1.13.0\u001b[0m\n"
     ]
    }
   ],
   "source": [
    "!dlt --version"
   ]
  },
  {
   "cell_type": "code",
   "execution_count": 4,
   "id": "35953c9b-b64c-40cd-a684-15481210853c",
   "metadata": {},
   "outputs": [
    {
     "name": "stdout",
     "output_type": "stream",
     "text": [
      "\n",
      "\u001b[1m[\u001b[0m\u001b[34;49mnotice\u001b[0m\u001b[1;39;49m]\u001b[0m\u001b[39;49m A new release of pip is available: \u001b[0m\u001b[31;49m24.0\u001b[0m\u001b[39;49m -> \u001b[0m\u001b[32;49m25.1.1\u001b[0m\n",
      "\u001b[1m[\u001b[0m\u001b[34;49mnotice\u001b[0m\u001b[1;39;49m]\u001b[0m\u001b[39;49m To update, run: \u001b[0m\u001b[32;49mpip install --upgrade pip\u001b[0m\n"
     ]
    }
   ],
   "source": [
    "!pip install -q \"dlt[qdrant]\" \"qdrant-client[fastembed]\""
   ]
  },
  {
   "cell_type": "code",
   "execution_count": 11,
   "id": "788297b0-4412-4706-9ef8-94b549428632",
   "metadata": {},
   "outputs": [],
   "source": [
    "import requests\n",
    "\n",
    "@dlt.resource\n",
    "def zoomcamp_data():\n",
    "    docs_url = 'https://github.com/alexeygrigorev/llm-rag-workshop/raw/main/notebooks/documents.json'\n",
    "    docs_response = requests.get(docs_url)\n",
    "    documents_raw = docs_response.json()\n",
    "\n",
    "    for course in documents_raw:\n",
    "        course_name = course['course']\n",
    "\n",
    "        for doc in course['documents']:\n",
    "            doc['course'] = course_name\n",
    "            yield doc"
   ]
  },
  {
   "cell_type": "markdown",
   "id": "524f3696-8686-46c4-8f24-036f308b415c",
   "metadata": {},
   "source": [
    "## Question 2. dlt pipeline\n",
    "___\n",
    "Now let's create a pipeline.\n",
    "\n",
    "We need to define a destination for that. Let's use the qdrant one:\n",
    "\n"
   ]
  },
  {
   "cell_type": "code",
   "execution_count": 8,
   "id": "c5284b31-d3a5-41a4-b4e5-74c4ae313f29",
   "metadata": {},
   "outputs": [],
   "source": [
    "from dlt.destinations import qdrant\n",
    "\n",
    "qdrant_destination = qdrant(\n",
    "  qd_path=\"db.qdrant\", \n",
    ")"
   ]
  },
  {
   "cell_type": "markdown",
   "id": "e7ffc15c-acab-47cf-8eeb-a0e38489c226",
   "metadata": {},
   "source": [
    "**In this case, we tell dlt (and Qdrant) to create a folder with our data, and the name for it will be db.qdrant\n",
    "Let's run it:**\n"
   ]
  },
  {
   "cell_type": "code",
   "execution_count": 12,
   "id": "132eb910-dfc2-4da7-9010-730afe34ffc7",
   "metadata": {},
   "outputs": [
    {
     "name": "stdout",
     "output_type": "stream",
     "text": [
      "Run started at 2025-07-10 06:32:37.610702+00:00 and COMPLETED in 32.20 seconds with 4 steps.\n",
      "Step extract COMPLETED in 0.82 seconds.\n",
      "\n",
      "Load package 1752129159.2188015 is EXTRACTED and NOT YET LOADED to the destination and contains no failed jobs\n",
      "\n",
      "Step normalize COMPLETED in 0.36 seconds.\n",
      "Normalized data for the following tables:\n",
      "- _dlt_pipeline_state: 1 row(s)\n",
      "- zoomcamp_data: 948 row(s)\n",
      "\n",
      "Load package 1752129159.2188015 is NORMALIZED and NOT YET LOADED to the destination and contains no failed jobs\n",
      "\n",
      "Step load COMPLETED in 29.46 seconds.\n",
      "Pipeline zoomcamp_pipeline load step completed in 29.37 seconds\n",
      "1 load package(s) were loaded to destination qdrant and into dataset zoomcamp_tagged_data\n",
      "The qdrant destination used /home/endie/Projects/LLM-Projects/LLM-Zoomcamp/LLM-workSpace/intro/db.qdrant location to store data\n",
      "Load package 1752129159.2188015 is LOADED and contains no failed jobs\n",
      "\n",
      "Step run COMPLETED in 32.20 seconds.\n",
      "Pipeline zoomcamp_pipeline load step completed in 29.37 seconds\n",
      "1 load package(s) were loaded to destination qdrant and into dataset zoomcamp_tagged_data\n",
      "The qdrant destination used /home/endie/Projects/LLM-Projects/LLM-Zoomcamp/LLM-workSpace/intro/db.qdrant location to store data\n",
      "Load package 1752129159.2188015 is LOADED and contains no failed jobs\n"
     ]
    }
   ],
   "source": [
    "pipeline = dlt.pipeline(\n",
    "    pipeline_name=\"zoomcamp_pipeline\",\n",
    "    destination=qdrant_destination,\n",
    "    dataset_name=\"zoomcamp_tagged_data\"\n",
    "\n",
    ")\n",
    "load_info = pipeline.run(zoomcamp_data())\n",
    "print(pipeline.last_trace)"
   ]
  },
  {
   "cell_type": "markdown",
   "id": "836a51b8-0b1d-4443-a398-ee812ab7eeca",
   "metadata": {},
   "source": [
    "**{\"collections\": {\"zoomcamp_tagged_data\": {\"vectors\": {\"fast-bge-small-en\": {\"size\": 384, \"distance\": \"Cosine\", \"hnsw_config\": null, \"quantization_config\": null, \"on_disk\": null, \"datatype\": null, \"multivector_config\": null}}, \"shard_number\": null, \"sharding_method\": null, \"replication_factor\": null, \"write_consistency_factor\": null, \"on_disk_payload\": null, \"hnsw_config\": null, \"wal_config\": null, \"optimizers_config\": null, \"init_from\": null, \"quantization_config\": null, \"sparse_vectors\": null, \"strict_mode_config\": null}, \"zoomcamp_tagged_data__dlt_pipeline_state\": {\"vectors\": {\"fast-bge-small-en\": {\"size\": 384, \"distance\": \"Cosine\", \"hnsw_config\": null, \"quantization_config\": null, \"on_disk\": null, \"datatype\": null, \"multivector_config\": null}}, \"shard_number\": null, \"sharding_method\": null, \"replication_factor\": null, \"write_consistency_factor\": null, \"on_disk_payload\": null, \"hnsw_config\": null, \"wal_config\": null, \"optimizers_config\": null, \"init_from\": null, \"quantization_config\": null, \"sparse_vectors\": null, \"strict_mode_config\": null}, \"zoomcamp_tagged_data__dlt_loads\": {\"vectors\": {\"fast-bge-small-en\": {\"size\": 384, \"distance\": \"Cosine\", \"hnsw_config\": null, \"quantization_config\": null, \"on_disk\": null, \"datatype\": null, \"multivector_config\": null}}, \"shard_number\": null, \"sharding_method\": null, \"replication_factor\": null, \"write_consistency_factor\": null, \"on_disk_payload\": null, \"hnsw_config\": null, \"wal_config\": null, \"optimizers_config\": null, \"init_from\": null, \"quantization_config\": null, \"sparse_vectors\": null, \"strict_mode_config\": null}, \"zoomcamp_tagged_data_zoomcamp_data\": {\"vectors\": {\"fast-bge-small-en\": {\"size\": 384, \"distance\": \"Cosine\", \"hnsw_config\": null, \"quantization_config\": null, \"on_disk\": null, \"datatype\": null, \"multivector_config\": null}}, \"shard_number\": null, \"sharding_method\": null, \"replication_factor\": null, \"write_consistency_factor\": null, \"on_disk_payload\": null, \"hnsw_config\": null, \"wal_config\": null, \"optimizers_config\": null, \"init_from\": null, \"quantization_config\": null, \"sparse_vectors\": null, \"strict_mode_config\": null}, \"zoomcamp_tagged_data__dlt_version\": {\"vectors\": {\"fast-bge-small-en\": {\"size\": 384, \"distance\": \"Cosine\", \"hnsw_config\": null, \"quantization_config\": null, \"on_disk\": null, \"datatype\": null, \"multivector_config\": null}}, \"shard_number\": null, \"sharding_method\": null, \"replication_factor\": null, \"write_consistency_factor\": null, \"on_disk_payload\": null, \"hnsw_config\": null, \"wal_config\": null, \"optimizers_config\": null, \"init_from\": null, \"quantization_config\": null, \"sparse_vectors\": null, \"strict_mode_config\": null}}, \"aliases\": {}}**"
   ]
  },
  {
   "cell_type": "code",
   "execution_count": null,
   "id": "1bfe6d3e-3a2a-4dff-9d6a-a2cb09d89379",
   "metadata": {},
   "outputs": [],
   "source": []
  }
 ],
 "metadata": {
  "kernelspec": {
   "display_name": "Python (venv)",
   "language": "python",
   "name": "venv"
  },
  "language_info": {
   "codemirror_mode": {
    "name": "ipython",
    "version": 3
   },
   "file_extension": ".py",
   "mimetype": "text/x-python",
   "name": "python",
   "nbconvert_exporter": "python",
   "pygments_lexer": "ipython3",
   "version": "3.11.9"
  }
 },
 "nbformat": 4,
 "nbformat_minor": 5
}
