{
 "cells": [
  {
   "cell_type": "code",
   "execution_count": 2,
   "id": "5b846f04-5243-43d1-b7d1-5b0294eddb41",
   "metadata": {},
   "outputs": [],
   "source": [
    "import os\n",
    "from openai import OpenAI\n",
    "\n"
   ]
  },
  {
   "cell_type": "code",
   "execution_count": 6,
   "id": "7fe37d55-7128-41ce-a22c-408f464bfa6b",
   "metadata": {},
   "outputs": [],
   "source": [
    "#You are required to create an API with openai\n",
    "#Save the api key in your global environment via >> export OPENAI_API_KEY=\"<your openai key>\"\n",
    "# Use the below code to confirm key availability.\n",
    "#os.environ"
   ]
  },
  {
   "cell_type": "code",
   "execution_count": 2,
   "id": "7068931f-47a8-438f-af0f-f5cb15556505",
   "metadata": {},
   "outputs": [],
   "source": [
    "client = OpenAI()"
   ]
  },
  {
   "cell_type": "code",
   "execution_count": null,
   "id": "d74bd414-4781-4ee7-b074-8ce123450b71",
   "metadata": {},
   "outputs": [],
   "source": []
  },
  {
   "cell_type": "code",
   "execution_count": null,
   "id": "77e3e23a-9900-437f-8e25-902912ec2786",
   "metadata": {},
   "outputs": [],
   "source": []
  }
 ],
 "metadata": {
  "kernelspec": {
   "display_name": "Python 3 (ipykernel)",
   "language": "python",
   "name": "python3"
  },
  "language_info": {
   "codemirror_mode": {
    "name": "ipython",
    "version": 3
   },
   "file_extension": ".py",
   "mimetype": "text/x-python",
   "name": "python",
   "nbconvert_exporter": "python",
   "pygments_lexer": "ipython3",
   "version": "3.12.1"
  }
 },
 "nbformat": 4,
 "nbformat_minor": 5
}
